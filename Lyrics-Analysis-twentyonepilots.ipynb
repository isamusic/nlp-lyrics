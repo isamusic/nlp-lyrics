{
 "cells": [
  {
   "cell_type": "markdown",
   "id": "7f3915f9-7970-4c56-b468-4dafe5414484",
   "metadata": {
    "editable": true,
    "slideshow": {
     "slide_type": ""
    },
    "tags": []
   },
   "source": [
    "# Analyze Twenty One Pilots Lyrics with Python\n",
    "### Code and process based on CodeCademy's \"Analyze Taylor Swift Lyrics with Python\".\n"
   ]
  },
  {
   "cell_type": "code",
   "execution_count": null,
   "id": "f496530c-1efe-4349-9d4e-d1f3b963061f",
   "metadata": {},
   "outputs": [],
   "source": [
    "%matplotlib inlines\n",
    "\n",
    "import pandas as pd\n",
    "import string\n",
    "import seaborn as sns\n",
    "import matplotlib.pyplot as plt\n",
    "import collections\n",
    "import nltk\n",
    "from nltk.tokenize import word_tokenize\n",
    "from nltk.sentiment import SentimentIntensityAnalyzer"
   ]
  },
  {
   "cell_type": "markdown",
   "id": "b31f148a-66fb-4fa9-9696-3feb29fe7fa9",
   "metadata": {},
   "source": [
    "### 1. Load the dataset\n",
    "After running the first cell to load necessary libraries, next we'll load the dataset to be analyzed.\n",
    "\n",
    "- Using pandas, load the dataset and save it as lyrics.\n",
    "- Inspect the first few rows.\n",
    "- Use .info() to determine how many rows there are, check for missing values, and check the variable types.\n",
    "\n",
    "*If you want to inspect the lyrics, you can find them in the file tree. Click on the Jupyter logo in the upper left corner and you can see all the files.*"
   ]
  },
  {
   "cell_type": "code",
   "execution_count": null,
   "id": "770fc75f-900c-4a97-a163-9a98d7368953",
   "metadata": {},
   "outputs": [],
   "source": [
    "# Load dataset\n",
    "lyrics = pd.read_csv(\"LYRICS FILE NAME HERE\")\n",
    "\n",
    "# Inspect the first few rows\n",
    "lyrics.head()"
   ]
  },
  {
   "cell_type": "code",
   "execution_count": null,
   "id": "ed4928e0-d725-4685-afd0-ef1671664ec9",
   "metadata": {},
   "outputs": [],
   "source": [
    "# Get info about the DataFrame\n",
    "lyrics.info()"
   ]
  },
  {
   "cell_type": "code",
   "execution_count": null,
   "id": "3741a840-23c8-450a-9a6f-b9be0e315614",
   "metadata": {},
   "outputs": [],
   "source": []
  }
 ],
 "metadata": {
  "kernelspec": {
   "display_name": "Python 3 (ipykernel)",
   "language": "python",
   "name": "python3"
  },
  "language_info": {
   "codemirror_mode": {
    "name": "ipython",
    "version": 3
   },
   "file_extension": ".py",
   "mimetype": "text/x-python",
   "name": "python",
   "nbconvert_exporter": "python",
   "pygments_lexer": "ipython3",
   "version": "3.9.4"
  }
 },
 "nbformat": 4,
 "nbformat_minor": 5
}
