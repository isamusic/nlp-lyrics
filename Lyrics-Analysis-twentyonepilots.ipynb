{
 "cells": [
  {
   "cell_type": "markdown",
   "id": "7f3915f9-7970-4c56-b468-4dafe5414484",
   "metadata": {
    "editable": true,
    "slideshow": {
     "slide_type": ""
    },
    "tags": []
   },
   "source": [
    "# Analyze Twenty One Pilots Lyrics with Python\n",
    "### Inspired by CodeCademy's \"Analyze Taylor Swift Lyrics with Python\".\n",
    "\n",
    "Double check that you have all required packages/libraries installed and accessible before running the import cell. \\\n",
    "Install Seaborn: https://seaborn.pydata.org/installing.html \\\n",
    "Install NLTK (Natural Language ToolKit): https://www.nltk.org/install.html"
   ]
  },
  {
   "cell_type": "code",
   "execution_count": 1,
   "id": "f496530c-1efe-4349-9d4e-d1f3b963061f",
   "metadata": {},
   "outputs": [],
   "source": [
    "%matplotlib inline\n",
    "\n",
    "import pandas as pd\n",
    "import string\n",
    "import seaborn as sns\n",
    "import matplotlib.pyplot as plt\n",
    "import collections\n",
    "import nltk\n",
    "from nltk.tokenize import word_tokenize\n",
    "from nltk.sentiment import SentimentIntensityAnalyzer"
   ]
  },
  {
   "cell_type": "markdown",
   "id": "b31f148a-66fb-4fa9-9696-3feb29fe7fa9",
   "metadata": {},
   "source": [
    "### 1. Build and load the dataset\n",
    "After running the first cell to load necessary libraries, next we'll build and load the dataset (\"dataframe\") to be analyzed.\n",
    "\n",
    "Our handiest functions to get insight into our data: \\\n",
    "(See more info on https://pandas.pydata.org/docs/reference/index.html)\n",
    "- Use pd.read_csv to load the dataframe from a file and save it as a variable dataframe in our jupyter notebook. Use pd.to_csv to write to a file.\n",
    ">\n",
    ">Keep in mind as you code that whenever you assign a dataframe to a variable defined in jupyter, any modifications you make to that dataframe stay local to your current jupyter session and do not directly edit the csv file. If you want your edits to the dataframe to be permanent within a file, you have to use pd.to_csv to write to a selected file.\n",
    ">\n",
    ">**Be careful when overwriting content!** Check what is in the file before writing to it. You don't want to lose content!\n",
    "- Use .head() to inspect the first few rows of a dataframe.\n",
    "- Use .info() to determine how many rows there are, check for missing values, and check the variable types.\n",
    "\n",
    "How do we get from copy and pasted lyrics only, to a broad dataset with custom information for each line of song lyric?\n",
    "\n",
    "Below is the process:\n",
    "1. Copy and paste the lyrics from your chosen song into a new csv file. I've called this \"one_song_lyrics_only.csv\".\n",
    "2. Skim the lyrics in the csv file and look for any lines with commas. Commas are the default delimiter, so they will be interpreted not as part of the lyric but as an indicator of a new cell of content. If you use an IDE like Visual Studio Code, extensions like Rainbow CSV can help these jump out immediately. It's your choice how to manage these lines so the dataframe can be properly read and compiled. Here are some options:\n",
    "   > - My usual preference: simply count every comma in a song's lyrics as a new lyric line, and manually delete it and add a new line. (Just backspace and return after each comma when you see one.) It takes a bit extra time and effort, but I prefer to interpret many song lyrics like this manually.\n",
    "   > - Wrap the lines with commas in double-quotes. Note that this will force your whole line as a string object, but this should be the default for the rest of your lines anyway. I use this on occasion.\n",
    "   > - If you want to avoid the issue altogether upfront and leave commas inside the lyric as part of a single lyric line without bothering with double-quotes, you can adjust the dataframe parameter for field delimiters and use something else like a semicolon. E.g., pandas.dataframe_name.read_csv(sep=';'). I haven't implemented this personally so the approach may need some adjusting. Just be aware it can get dicey if you're trying to combine dataframes that are using different delimiters.\n",
    "3. Starting with a file with just one column containing a song's lyrics, build a dataframe with more columns that include details about the song, to match our comprehensive lyrics dataframe. See cells below for the functions to do this.\n",
    "4. Concatenate/append this one song's dataframe to our comprehensive lyrics dataframe.\n",
    "5. Check our files and variables and then write the new and improved, extended comprehensive dataframe to our main lyrics data csv file. (Again, be careful when writing over big files. You can write to a temporary file to check accuracy beforehand; I used one called \"testingoutput.csv\".)\n",
    "\n",
    "*If you want to inspect the lyrics I have built with this method, you can find them in the file tree. To find these through Jupyter, click on the Jupyter logo in the upper left corner. You can, of course, also view these in the file directory in the github repository.*"
   ]
  },
  {
   "cell_type": "code",
   "execution_count": 2,
   "id": "770fc75f-900c-4a97-a163-9a98d7368953",
   "metadata": {},
   "outputs": [],
   "source": [
    "# Load datasets\n",
    "\n",
    "# Comprehensive, main lyrics list to build upon\n",
    "lyrics = pd.read_csv(\"twenty_one_pilots_lyrics_2009-2024.csv\")\n",
    "\n",
    "# Song to add to the comprehensive lyrics list\n",
    "one_song = pd.read_csv(\"one_song_lyrics_only.csv\")\n",
    "\n",
    "# Don't forget to include a \"lyric\" at the top (first line) of your \"one_song_lyrics_only.csv\"!\n",
    "# CSV files are read with the first line as the column name/s."
   ]
  },
  {
   "cell_type": "code",
   "execution_count": 3,
   "id": "0f0d3c1f-38d3-4561-aebf-264cd5820749",
   "metadata": {},
   "outputs": [
    {
     "data": {
      "text/html": [
       "<div>\n",
       "<style scoped>\n",
       "    .dataframe tbody tr th:only-of-type {\n",
       "        vertical-align: middle;\n",
       "    }\n",
       "\n",
       "    .dataframe tbody tr th {\n",
       "        vertical-align: top;\n",
       "    }\n",
       "\n",
       "    .dataframe thead th {\n",
       "        text-align: right;\n",
       "    }\n",
       "</style>\n",
       "<table border=\"1\" class=\"dataframe\">\n",
       "  <thead>\n",
       "    <tr style=\"text-align: right;\">\n",
       "      <th></th>\n",
       "      <th>album_name</th>\n",
       "      <th>track_title</th>\n",
       "      <th>track_n</th>\n",
       "      <th>lyric</th>\n",
       "      <th>line</th>\n",
       "    </tr>\n",
       "  </thead>\n",
       "  <tbody>\n",
       "    <tr>\n",
       "      <th>0</th>\n",
       "      <td>Johnny Boy - EP</td>\n",
       "      <td>Johnny Boy</td>\n",
       "      <td>1</td>\n",
       "      <td>He stays home from work this time</td>\n",
       "      <td>1</td>\n",
       "    </tr>\n",
       "    <tr>\n",
       "      <th>1</th>\n",
       "      <td>Johnny Boy - EP</td>\n",
       "      <td>Johnny Boy</td>\n",
       "      <td>1</td>\n",
       "      <td>He never really told his wife</td>\n",
       "      <td>2</td>\n",
       "    </tr>\n",
       "    <tr>\n",
       "      <th>2</th>\n",
       "      <td>Johnny Boy - EP</td>\n",
       "      <td>Johnny Boy</td>\n",
       "      <td>1</td>\n",
       "      <td>He never really told a lie but this time he de...</td>\n",
       "      <td>3</td>\n",
       "    </tr>\n",
       "    <tr>\n",
       "      <th>3</th>\n",
       "      <td>Johnny Boy - EP</td>\n",
       "      <td>Johnny Boy</td>\n",
       "      <td>1</td>\n",
       "      <td>It's alright</td>\n",
       "      <td>4</td>\n",
       "    </tr>\n",
       "    <tr>\n",
       "      <th>4</th>\n",
       "      <td>Johnny Boy - EP</td>\n",
       "      <td>Johnny Boy</td>\n",
       "      <td>1</td>\n",
       "      <td>No one really knows his mind and no one knows ...</td>\n",
       "      <td>5</td>\n",
       "    </tr>\n",
       "  </tbody>\n",
       "</table>\n",
       "</div>"
      ],
      "text/plain": [
       "        album_name track_title  track_n  \\\n",
       "0  Johnny Boy - EP  Johnny Boy        1   \n",
       "1  Johnny Boy - EP  Johnny Boy        1   \n",
       "2  Johnny Boy - EP  Johnny Boy        1   \n",
       "3  Johnny Boy - EP  Johnny Boy        1   \n",
       "4  Johnny Boy - EP  Johnny Boy        1   \n",
       "\n",
       "                                               lyric  line  \n",
       "0                  He stays home from work this time     1  \n",
       "1                      He never really told his wife     2  \n",
       "2  He never really told a lie but this time he de...     3  \n",
       "3                                       It's alright     4  \n",
       "4  No one really knows his mind and no one knows ...     5  "
      ]
     },
     "execution_count": 3,
     "metadata": {},
     "output_type": "execute_result"
    }
   ],
   "source": [
    "# Inspect the first few rows of our target comprehensive dataframe\n",
    "lyrics.head()"
   ]
  },
  {
   "cell_type": "code",
   "execution_count": 4,
   "id": "2b007189-6803-469f-bf75-f081947b536f",
   "metadata": {},
   "outputs": [
    {
     "name": "stdout",
     "output_type": "stream",
     "text": [
      "['Johnny Boy' 'Air Catcher' 'Time to Say Goodbye' 'Addict with a Pen'\n",
      " 'Friend, Please' 'Taxi Cab' 'Implicit Demand for Proof' 'Fall Away'\n",
      " 'The Pantaloon' 'March to the Sea' 'Oh, Ms. Believer' 'Trapdoor'\n",
      " 'A Car, a Torch, a Death' 'Before You Start Your Day'\n",
      " 'Isle of Flightless Birds' 'Guns for Hands' 'Holding on to You'\n",
      " 'Ode to Sleep' 'Slowtown' 'Car Radio' 'Forest' 'Glowing Eyes'\n",
      " 'Kitchen Sink' 'Anathema' 'Lovely' 'Ruby' 'Trees' 'Be Concerned' 'Clear'\n",
      " 'House of Gold' 'Two']\n"
     ]
    }
   ],
   "source": [
    "# A sample of what we can do with our data\n",
    "# Look at the names of all songs in this dataframe, without repeats\n",
    "print(lyrics.track_title.unique())"
   ]
  },
  {
   "cell_type": "code",
   "execution_count": 5,
   "id": "2e1915f2-b67c-43a6-8c1c-e8d47ef3e984",
   "metadata": {},
   "outputs": [
    {
     "data": {
      "text/html": [
       "<div>\n",
       "<style scoped>\n",
       "    .dataframe tbody tr th:only-of-type {\n",
       "        vertical-align: middle;\n",
       "    }\n",
       "\n",
       "    .dataframe tbody tr th {\n",
       "        vertical-align: top;\n",
       "    }\n",
       "\n",
       "    .dataframe thead th {\n",
       "        text-align: right;\n",
       "    }\n",
       "</style>\n",
       "<table border=\"1\" class=\"dataframe\">\n",
       "  <thead>\n",
       "    <tr style=\"text-align: right;\">\n",
       "      <th></th>\n",
       "      <th>lyric</th>\n",
       "    </tr>\n",
       "  </thead>\n",
       "  <tbody>\n",
       "    <tr>\n",
       "      <th>0</th>\n",
       "      <td>I wake up fine and dandy</td>\n",
       "    </tr>\n",
       "    <tr>\n",
       "      <th>1</th>\n",
       "      <td>but then by the time I find it handy</td>\n",
       "    </tr>\n",
       "    <tr>\n",
       "      <th>2</th>\n",
       "      <td>To rip my heart apart and start planning my cr...</td>\n",
       "    </tr>\n",
       "    <tr>\n",
       "      <th>3</th>\n",
       "      <td>I go up, up, up, up, up to the ceiling</td>\n",
       "    </tr>\n",
       "    <tr>\n",
       "      <th>4</th>\n",
       "      <td>Then I feel my soul start leaving</td>\n",
       "    </tr>\n",
       "  </tbody>\n",
       "</table>\n",
       "</div>"
      ],
      "text/plain": [
       "                                               lyric\n",
       "0                           I wake up fine and dandy\n",
       "1               but then by the time I find it handy\n",
       "2  To rip my heart apart and start planning my cr...\n",
       "3             I go up, up, up, up, up to the ceiling\n",
       "4                 Then I feel my soul start leaving "
      ]
     },
     "execution_count": 5,
     "metadata": {},
     "output_type": "execute_result"
    }
   ],
   "source": [
    "# Inspect the first few rows of our lyrics to build upon\n",
    "one_song.head()"
   ]
  },
  {
   "cell_type": "code",
   "execution_count": 6,
   "id": "ed4928e0-d725-4685-afd0-ef1671664ec9",
   "metadata": {},
   "outputs": [
    {
     "name": "stdout",
     "output_type": "stream",
     "text": [
      "<class 'pandas.core.frame.DataFrame'>\n",
      "RangeIndex: 86 entries, 0 to 85\n",
      "Data columns (total 1 columns):\n",
      " #   Column  Non-Null Count  Dtype \n",
      "---  ------  --------------  ----- \n",
      " 0   lyric   86 non-null     object\n",
      "dtypes: object(1)\n",
      "memory usage: 816.0+ bytes\n"
     ]
    }
   ],
   "source": [
    "# Get info about the song's dataframe, double check that there are the same # of entries as there are objects, and no null objects\n",
    "one_song.info()"
   ]
  },
  {
   "cell_type": "code",
   "execution_count": 7,
   "id": "3741a840-23c8-450a-9a6f-b9be0e315614",
   "metadata": {},
   "outputs": [
    {
     "name": "stdout",
     "output_type": "stream",
     "text": [
      "<class 'pandas.core.frame.DataFrame'>\n",
      "RangeIndex: 1841 entries, 0 to 1840\n",
      "Data columns (total 5 columns):\n",
      " #   Column       Non-Null Count  Dtype \n",
      "---  ------       --------------  ----- \n",
      " 0   album_name   1841 non-null   object\n",
      " 1   track_title  1841 non-null   object\n",
      " 2   track_n      1841 non-null   int64 \n",
      " 3   lyric        1841 non-null   object\n",
      " 4   line         1841 non-null   int64 \n",
      "dtypes: int64(2), object(3)\n",
      "memory usage: 72.0+ KB\n"
     ]
    }
   ],
   "source": [
    "# Get info about our target dataframe, noticing again the columns we want to add to our one song.\n",
    "lyrics.info()"
   ]
  },
  {
   "cell_type": "code",
   "execution_count": 8,
   "id": "049b20e9-2dd9-414e-b17f-7b6c4a0e144a",
   "metadata": {},
   "outputs": [],
   "source": [
    "# Build new information around our song lyrics to match the target dataframe.\n",
    "\n",
    "# First, we can use variables to make it even easier and more obvious where to modify content per song:\n",
    "one_song_album_name = \"Vessel\"\n",
    "one_song_track_title = \"Ode to Sleep\"\n",
    "one_song_track_n = 1\n",
    "\n",
    "# Then, we'll assign these values to cells in our dataframe.\n",
    "\n",
    "# If you don't care about matching columns to the same indices, you can simply assign, e.g.:\n",
    "# one_song['album_name'] = one_song_album\n",
    "# lyrics['track_n'] = one_song_track_num\n",
    "# If you do care about that, you can use .insert(), like this:\n",
    "one_song.insert(0,'album_name', one_song_album_name)\n",
    "one_song.insert(1,'track_title', one_song_track_title)\n",
    "one_song.insert(2,'track_n', one_song_track_n)\n",
    "# You can add what is basically an incrementing index per lyric line with a range func, like this:\n",
    "one_song.insert(4, 'line', range(1, 1+len(one_song)))\n",
    "\n",
    "# NOTE that you can run a simple assignment many times without any consequence, \n",
    "# because it will just re-assign the same values,\n",
    "# but .insert() creates a new column with the content and can only be run for a unique identifier once per session.\n",
    "# So don't run a cell with .insert() more than once."
   ]
  },
  {
   "cell_type": "code",
   "execution_count": 9,
   "id": "cc7d528c-773f-450a-b3a8-53896d71983d",
   "metadata": {},
   "outputs": [
    {
     "data": {
      "text/html": [
       "<div>\n",
       "<style scoped>\n",
       "    .dataframe tbody tr th:only-of-type {\n",
       "        vertical-align: middle;\n",
       "    }\n",
       "\n",
       "    .dataframe tbody tr th {\n",
       "        vertical-align: top;\n",
       "    }\n",
       "\n",
       "    .dataframe thead th {\n",
       "        text-align: right;\n",
       "    }\n",
       "</style>\n",
       "<table border=\"1\" class=\"dataframe\">\n",
       "  <thead>\n",
       "    <tr style=\"text-align: right;\">\n",
       "      <th></th>\n",
       "      <th>album_name</th>\n",
       "      <th>track_title</th>\n",
       "      <th>track_n</th>\n",
       "      <th>lyric</th>\n",
       "      <th>line</th>\n",
       "    </tr>\n",
       "  </thead>\n",
       "  <tbody>\n",
       "    <tr>\n",
       "      <th>0</th>\n",
       "      <td>Vessel</td>\n",
       "      <td>Ode to Sleep</td>\n",
       "      <td>1</td>\n",
       "      <td>I wake up fine and dandy</td>\n",
       "      <td>1</td>\n",
       "    </tr>\n",
       "    <tr>\n",
       "      <th>1</th>\n",
       "      <td>Vessel</td>\n",
       "      <td>Ode to Sleep</td>\n",
       "      <td>1</td>\n",
       "      <td>but then by the time I find it handy</td>\n",
       "      <td>2</td>\n",
       "    </tr>\n",
       "    <tr>\n",
       "      <th>2</th>\n",
       "      <td>Vessel</td>\n",
       "      <td>Ode to Sleep</td>\n",
       "      <td>1</td>\n",
       "      <td>To rip my heart apart and start planning my cr...</td>\n",
       "      <td>3</td>\n",
       "    </tr>\n",
       "    <tr>\n",
       "      <th>3</th>\n",
       "      <td>Vessel</td>\n",
       "      <td>Ode to Sleep</td>\n",
       "      <td>1</td>\n",
       "      <td>I go up, up, up, up, up to the ceiling</td>\n",
       "      <td>4</td>\n",
       "    </tr>\n",
       "    <tr>\n",
       "      <th>4</th>\n",
       "      <td>Vessel</td>\n",
       "      <td>Ode to Sleep</td>\n",
       "      <td>1</td>\n",
       "      <td>Then I feel my soul start leaving</td>\n",
       "      <td>5</td>\n",
       "    </tr>\n",
       "  </tbody>\n",
       "</table>\n",
       "</div>"
      ],
      "text/plain": [
       "  album_name   track_title  track_n  \\\n",
       "0     Vessel  Ode to Sleep        1   \n",
       "1     Vessel  Ode to Sleep        1   \n",
       "2     Vessel  Ode to Sleep        1   \n",
       "3     Vessel  Ode to Sleep        1   \n",
       "4     Vessel  Ode to Sleep        1   \n",
       "\n",
       "                                               lyric  line  \n",
       "0                           I wake up fine and dandy     1  \n",
       "1               but then by the time I find it handy     2  \n",
       "2  To rip my heart apart and start planning my cr...     3  \n",
       "3             I go up, up, up, up, up to the ceiling     4  \n",
       "4                 Then I feel my soul start leaving      5  "
      ]
     },
     "execution_count": 9,
     "metadata": {},
     "output_type": "execute_result"
    }
   ],
   "source": [
    "# Now take another look at our updated one song's dataframe\n",
    "one_song.head()"
   ]
  },
  {
   "cell_type": "code",
   "execution_count": 10,
   "id": "542eb0f1-e8b7-4ba2-a02e-62d6c7e9853f",
   "metadata": {},
   "outputs": [],
   "source": [
    "# Write the new song's dataframe to its own csv, if wanted\n",
    "one_song.to_csv('one_song_lyrics_finished.csv', index=False)"
   ]
  },
  {
   "cell_type": "code",
   "execution_count": 11,
   "id": "3f49d67c-d894-42a5-900e-44df00cd8630",
   "metadata": {},
   "outputs": [
    {
     "name": "stdout",
     "output_type": "stream",
     "text": [
      "<class 'pandas.core.frame.DataFrame'>\n",
      "Int64Index: 1927 entries, 0 to 85\n",
      "Data columns (total 5 columns):\n",
      " #   Column       Non-Null Count  Dtype \n",
      "---  ------       --------------  ----- \n",
      " 0   album_name   1927 non-null   object\n",
      " 1   track_title  1927 non-null   object\n",
      " 2   track_n      1927 non-null   int64 \n",
      " 3   lyric        1927 non-null   object\n",
      " 4   line         1927 non-null   int64 \n",
      "dtypes: int64(2), object(3)\n",
      "memory usage: 90.3+ KB\n"
     ]
    }
   ],
   "source": [
    "# Concatenate new song's dataframe with the comprehensive list\n",
    "combined_lyrics = pd.concat([lyrics,one_song])\n",
    "combined_lyrics.info()"
   ]
  },
  {
   "cell_type": "markdown",
   "id": "70c476a4-18dc-4ab3-812d-0ece399fb209",
   "metadata": {},
   "source": [
    "You can also concatenate it to a csv for just that album, if you'd like to have that on hand too.\n",
    "Use a similar process to add these kinds of extra pieces to your dataset."
   ]
  },
  {
   "cell_type": "code",
   "execution_count": 12,
   "id": "68c8cc89-ecbf-46a2-9ee0-ed33676c8b4d",
   "metadata": {},
   "outputs": [],
   "source": [
    "#combined_lyrics.to_csv('testingoutput.csv', index=False)"
   ]
  },
  {
   "cell_type": "markdown",
   "id": "455e6626-87c2-4409-be96-54ac86c46a66",
   "metadata": {},
   "source": [
    "## STOP here!\n",
    "Check your one_song_lyrics_finished.csv or testingoutput.csv file before making your csv edits permanent! If there is an error, you will need to fix and then read the file and manipulate the data again."
   ]
  },
  {
   "cell_type": "code",
   "execution_count": 13,
   "id": "50a6ef2a-95d9-4de6-b926-9179bc1e4684",
   "metadata": {},
   "outputs": [],
   "source": [
    "# If this test output looks good, make the change permanent by overwriting your main file.\n",
    "combined_lyrics.to_csv('twenty_one_pilots_lyrics_2009-2024.csv', index=False)"
   ]
  },
  {
   "cell_type": "markdown",
   "id": "dac0003d-c7aa-4239-931b-83f6c2b53de9",
   "metadata": {},
   "source": [
    "### Now you can check your csv files to see the new data! \n",
    "If it all looks good, proceed to clean up your tracks and prepare to repeat the process for your next song. (Technically you don't have to do this since you'll be overwriting files when you start over anyway; it's more good practice and saves on space if you're not coming back to this for a while.) You can either do this manually by just deleting the file or deleting the contents of the file (which can be easy and fast enough to do by hand, since you're going to be copying and pasting into these files again anyway), OR you can wipe files through jupyter, by truncating with something like this:"
   ]
  },
  {
   "cell_type": "code",
   "execution_count": 14,
   "id": "d4974237-fb03-4b1c-8168-a411df16f4ca",
   "metadata": {},
   "outputs": [
    {
     "data": {
      "text/plain": [
       "'f = open(\"testingoutput.csv\", \"w+\")\\nf.close()\\ng = open(\"one_song_lyrics_only.csv\", \"w+\")\\ng.close()\\nh = open(\"one_song_lyrics_finished.csv\", \"w+\")\\nh.close()'"
      ]
     },
     "execution_count": 14,
     "metadata": {},
     "output_type": "execute_result"
    }
   ],
   "source": [
    "# Delete the triple quotes to automate this feature.\n",
    "\"\"\"f = open(\"testingoutput.csv\", \"w+\")\n",
    "f.close()\n",
    "g = open(\"one_song_lyrics_only.csv\", \"w+\")\n",
    "g.close()\n",
    "h = open(\"one_song_lyrics_finished.csv\", \"w+\")\n",
    "h.close()\"\"\""
   ]
  },
  {
   "cell_type": "markdown",
   "id": "bf162862-c7e6-4ae9-a3fa-3586a64affd5",
   "metadata": {},
   "source": [
    "### 2. Start Analyzing!"
   ]
  }
 ],
 "metadata": {
  "kernelspec": {
   "display_name": "Python 3 (ipykernel)",
   "language": "python",
   "name": "python3"
  },
  "language_info": {
   "codemirror_mode": {
    "name": "ipython",
    "version": 3
   },
   "file_extension": ".py",
   "mimetype": "text/x-python",
   "name": "python",
   "nbconvert_exporter": "python",
   "pygments_lexer": "ipython3",
   "version": "3.9.4"
  }
 },
 "nbformat": 4,
 "nbformat_minor": 5
}
