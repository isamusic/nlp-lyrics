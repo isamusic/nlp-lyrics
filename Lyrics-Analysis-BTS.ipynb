{
 "cells": [
  {
   "cell_type": "markdown",
   "id": "7f3915f9-7970-4c56-b468-4dafe5414484",
   "metadata": {},
   "source": [
    "# Analyze BTS Lyrics with Python"
   ]
  },
  {
   "cell_type": "code",
   "execution_count": null,
   "id": "f496530c-1efe-4349-9d4e-d1f3b963061f",
   "metadata": {},
   "outputs": [],
   "source": []
  }
 ],
 "metadata": {
  "kernelspec": {
   "display_name": "Python 3 (ipykernel)",
   "language": "python",
   "name": "python3"
  },
  "language_info": {
   "codemirror_mode": {
    "name": "ipython",
    "version": 3
   },
   "file_extension": ".py",
   "mimetype": "text/x-python",
   "name": "python",
   "nbconvert_exporter": "python",
   "pygments_lexer": "ipython3",
   "version": "3.9.4"
  }
 },
 "nbformat": 4,
 "nbformat_minor": 5
}
